{
  "cells": [
    {
      "cell_type": "markdown",
      "metadata": {
      },
      "source": [
        "# UTokyo 01 – Einführung in das kurzfristige Quantencomputing 11"
      ]
    },
    {
      "cell_type": "markdown",
      "metadata": {
      },
      "source": [
        "## Überblick 13\n",
        "\n",
        "**Die Universität Tokio** <br>\n",
        "**Einführung in das kurzfristige Quantencomputing**<br>\n",
        "**量子計算論**\n",
        "\n",
        "<br>\n",
        "\n",
        "**Einheit 1: Willkommen zur Einführung in das kurzfristige Quantencomputing!**\n",
        "\n",
        "Diesem Fragenkomplex liegen folgende Inhalte zugrunde:\n",
        "\n",
        "- [VIDEO: Quanteninformation und -berechnung verstehen | Lektion 1 (John Watrous)](https://youtu.be/3-c4xJa7Flk)\n",
        "- [LEHRBUCH: Einzelsysteme der Grundlagen der Quanteninformation](https://learn.qiskit.org/course/basics/single-systems)\n",
        "\n",
        "Weitere Informationen finden Sie im [Online-Lehrplan](https://learn.qiskit.org/syllabus/RBD-9TW) ."
      ]
    },
    {
      "cell_type": "markdown",
      "metadata": {
      },
      "source": [
        "<!-- ::: q-block.exercise -->\n",
        "\n",
        "### Schnelles Quiz 12\n",
        "\n",
        "<!-- ::: q-quiz(goal=\"utokyo_01_0\") -->\n",
        "\n",
        "<!-- ::: .question -->\n",
        "\n",
        "Bereit für Ihr Quiz?\n",
        "\n",
        "<!-- ::: -->\n",
        "\n",
        "<!-- ::: .option(correct) -->\n",
        "\n",
        "1. Ja, lass uns gehen!\n",
        "\n",
        "<!-- ::: -->\n",
        "\n",
        "<!-- ::: .option -->\n",
        "\n",
        "1. Noch nicht, ich muss mir das Video ansehen und das Lehrbuch noch einmal lesen.\n",
        "\n",
        "<!-- ::: -->\n",
        "\n",
        "<!-- ::: -->"
      ]
    },
    {
      "cell_type": "markdown",
      "metadata": {
      },
      "source": [
        "## Quiz 1-1"
      ]
    },
    {
      "cell_type": "markdown",
      "metadata": {
      },
      "source": [
        "<!-- ::: q-block.exercise -->\n",
        "\n",
        "### Quiz 1-1\n",
        "\n",
        "<!-- ::: q-quiz(goal=\"utokyo_01_1\") -->\n",
        "\n",
        "<!-- ::: .question -->\n",
        "\n",
        "Welcher der folgenden ist ein Wahrscheinlichkeitsvektor?\n",
        "\n",
        "<!-- ::: -->\n",
        "\n",
        "<!-- ::: .option -->\n",
        "\n",
        "$\\begin{pmatrix} \\sqrt{2}\\\\ 1 - \\sqrt{2} \\end{pmatrix}$\n",
        "\n",
        "<!-- ::: -->\n",
        "\n",
        "<!-- ::: .option -->\n",
        "\n",
        "$\\begin{pmatrix} 0,4 \\\\ 0,4 \\end{pmatrix}$\n",
        "\n",
        "<!-- ::: -->\n",
        "\n",
        "<!-- ::: .option(correct) -->\n",
        "\n",
        "$\\begin{pmatrix} 1 \\\\ 0 \\\\ 0 \\end{pmatrix}$\n",
        "\n",
        "<!-- ::: -->\n",
        "\n",
        "<!-- ::: -->\n",
        "\n",
        "<!-- ::: -->"
      ]
    },
    {
      "cell_type": "markdown",
      "metadata": {
      },
      "source": [
        "## Quiz 1-2"
      ]
    },
    {
      "cell_type": "markdown",
      "metadata": {
      },
      "source": [
        "<!-- ::: q-block.exercise -->\n",
        "\n",
        "### Quiz 1-2\n",
        "\n",
        "<!-- ::: q-quiz(goal=\"utokyo_01_2\") -->\n",
        "\n",
        "<!-- ::: .question -->\n",
        "\n",
        "Welcher der folgenden ist ein Quantenzustandsvektor?\n",
        "\n",
        "<!-- ::: -->\n",
        "\n",
        "<!-- ::: .option -->\n",
        "\n",
        "$\\begin{pmatrix} \\sqrt{2}\\\\ 1 - \\sqrt{2} \\end{pmatrix}$\n",
        "\n",
        "<!-- ::: -->\n",
        "\n",
        "<!-- ::: .option(correct) -->\n",
        "\n",
        "$\\begin{pmatrix} -\\frac{1+2i}{3} \\\\ -\\frac{2}{3} \\end{pmatrix}$\n",
        "\n",
        "<!-- ::: -->\n",
        "\n",
        "<!-- ::: .option -->\n",
        "\n",
        "$\\begin{pmatrix} 1 \\\\ 0 \\\\ 1 \\end{pmatrix}$\n",
        "\n",
        "<!-- ::: -->\n",
        "\n",
        "<!-- ::: -->\n",
        "\n",
        "<!-- ::: -->"
      ]
    },
    {
      "cell_type": "markdown",
      "metadata": {
      },
      "source": [
        "## Quiz 1-3"
      ]
    },
    {
      "cell_type": "markdown",
      "metadata": {
      },
      "source": [
        "<!-- ::: q-block.exercise -->\n",
        "\n",
        "### Quiz 1-3\n",
        "\n",
        "<!-- ::: q-quiz(goal=\"utokyo_01_3\") -->\n",
        "\n",
        "<!-- ::: .question -->\n",
        "\n",
        "Welcher der folgenden ist ein deterministischer Operator?\n",
        "\n",
        "<!-- ::: -->\n",
        "\n",
        "<!-- ::: .option -->\n",
        "\n",
        "$\\begin{pmatrix} 1 &amp; 0 \\\\ 1 &amp; 0 \\end{pmatrix}$\n",
        "\n",
        "<!-- ::: -->\n",
        "\n",
        "<!-- ::: .option -->\n",
        "\n",
        "$\\begin{pmatrix} 0 &amp; \\frac{1}{2} \\\\ \\frac{-i}{2} &amp; 0 \\end{pmatrix}$\n",
        "\n",
        "<!-- ::: -->\n",
        "\n",
        "<!-- ::: .option -->\n",
        "\n",
        "$\\begin{pmatrix} 1 &amp; 0 \\\\ 0 &amp; i \\end{pmatrix}$\n",
        "\n",
        "<!-- ::: -->\n",
        "\n",
        "<!-- ::: .option(correct) -->\n",
        "\n",
        "$\\begin{pmatrix} 0 &amp; 0 \\\\ 1 &amp; 1 \\end{pmatrix}$\n",
        "\n",
        "<!-- ::: -->\n",
        "\n",
        "<!-- ::: -->\n",
        "\n",
        "<!-- ::: -->"
      ]
    },
    {
      "cell_type": "markdown",
      "metadata": {
      },
      "source": [
        "## Quiz 1-4"
      ]
    },
    {
      "cell_type": "markdown",
      "metadata": {
      },
      "source": [
        "<!-- ::: q-block.exercise -->\n",
        "\n",
        "### Quiz 1-4\n",
        "\n",
        "<!-- ::: q-quiz(goal=\"utokyo_01_4\") -->\n",
        "\n",
        "<!-- ::: .question -->\n",
        "\n",
        "Welcher der folgenden ist ein probabilistischer Operator?\n",
        "\n",
        "<!-- ::: -->\n",
        "\n",
        "<!-- ::: .option -->\n",
        "\n",
        "$\\begin{pmatrix} 1 &amp; 0 \\\\ 1 &amp; 0 \\end{pmatrix}$\n",
        "\n",
        "<!-- ::: -->\n",
        "\n",
        "<!-- ::: .option(correct) -->\n",
        "\n",
        "$\\begin{pmatrix} \\frac{1}{2} &amp; 0 \\\\ \\frac{1}{2} &amp; 1 \\end{pmatrix}$\n",
        "\n",
        "<!-- ::: -->\n",
        "\n",
        "<!-- ::: .option -->\n",
        "\n",
        "$\\begin{pmatrix} 1 &amp; 0 \\\\ 0 &amp; i \\end{pmatrix}$\n",
        "\n",
        "<!-- ::: -->\n",
        "\n",
        "<!-- ::: .option -->\n",
        "\n",
        "$\\begin{pmatrix} 0 &amp; \\frac{1}{2} \\\\ \\frac{-i}{2} &amp; 0 \\end{pmatrix}$\n",
        "\n",
        "<!-- ::: -->\n",
        "\n",
        "<!-- ::: -->\n",
        "\n",
        "<!-- ::: -->"
      ]
    },
    {
      "cell_type": "markdown",
      "metadata": {
      },
      "source": [
        "## Quiz 1-5"
      ]
    },
    {
      "cell_type": "markdown",
      "metadata": {
      },
      "source": [
        "<!-- ::: q-block.exercise -->\n",
        "\n",
        "### Quiz 1-5\n",
        "\n",
        "<!-- ::: q-quiz(goal=\"utokyo_01_5\") -->\n",
        "\n",
        "<!-- ::: .question -->\n",
        "\n",
        "Welche der folgenden Aussagen ist einheitlich?\n",
        "\n",
        "<!-- ::: -->\n",
        "\n",
        "<!-- ::: .option -->\n",
        "\n",
        "$\\begin{pmatrix} 1 &amp; 0 \\\\ 1 &amp; 0 \\end{pmatrix}$\n",
        "\n",
        "<!-- ::: -->\n",
        "\n",
        "<!-- ::: .option -->\n",
        "\n",
        "$\\begin{pmatrix} 0 &amp; \\frac{1}{2} \\\\ \\frac{-i}{2} &amp; 0 \\end{pmatrix}$\n",
        "\n",
        "<!-- ::: -->\n",
        "\n",
        "<!-- ::: .option(correct) -->\n",
        "\n",
        "$\\begin{pmatrix} 1 &amp; 0 \\\\ 0 &amp; i \\end{pmatrix}$\n",
        "\n",
        "<!-- ::: -->\n",
        "\n",
        "<!-- ::: -->\n",
        "\n",
        "<!-- ::: -->"
      ]
    },
    {
      "cell_type": "markdown",
      "metadata": {
      },
      "source": [
        "## Quiz 1-6"
      ]
    },
    {
      "cell_type": "markdown",
      "metadata": {
      },
      "source": [
        "<!-- ::: q-block.exercise -->\n",
        "\n",
        "### Quiz 1-6\n",
        "\n",
        "<!-- ::: q-quiz(goal=\"utokyo_01_6\") -->\n",
        "\n",
        "<!-- ::: .question -->\n",
        "\n",
        "Die Ergebniswahrscheinlichkeiten von 0 und 1 durch Messung des Plus-Zustands oder des Minus-Zustands sind dieselben wie bei Standardbasismessungen.\n",
        "\n",
        "<!-- ::: -->\n",
        "\n",
        "<!-- ::: .option(correct) -->\n",
        "\n",
        "Ja\n",
        "\n",
        "<!-- ::: -->\n",
        "\n",
        "<!-- ::: .option -->\n",
        "\n",
        "NEIN\n",
        "\n",
        "<!-- ::: -->\n",
        "\n",
        "<!-- ::: -->\n",
        "\n",
        "<!-- ::: -->"
      ]
    },
    {
      "cell_type": "markdown",
      "metadata": {
      },
      "source": [
        "## Quiz 1-7"
      ]
    },
    {
      "cell_type": "markdown",
      "metadata": {
      },
      "source": [
        "<!-- ::: q-block.exercise -->\n",
        "\n",
        "### Quiz 1-7\n",
        "\n",
        "<!-- ::: q-quiz(goal=\"utokyo_01_7\") -->\n",
        "\n",
        "<!-- ::: .question -->\n",
        "\n",
        "Welche Operation ist gleich $ HZH $ ?\n",
        "\n",
        "<!-- ::: -->\n",
        "\n",
        "<!-- ::: .option(correct) -->\n",
        "\n",
        "$X$\n",
        "\n",
        "<!-- ::: -->\n",
        "\n",
        "<!-- ::: .option -->\n",
        "\n",
        "$Y$\n",
        "\n",
        "<!-- ::: -->\n",
        "\n",
        "<!-- ::: .option -->\n",
        "\n",
        "$Z$\n",
        "\n",
        "<!-- ::: -->\n",
        "\n",
        "<!-- ::: .option -->\n",
        "\n",
        "$H$\n",
        "\n",
        "<!-- ::: -->\n",
        "\n",
        "<!-- ::: -->\n",
        "\n",
        "<!-- ::: -->"
      ]
    },
    {
      "cell_type": "markdown",
      "metadata": {
      },
      "source": [
        "## Quiz 1-8"
      ]
    },
    {
      "cell_type": "markdown",
      "metadata": {
      },
      "source": [
        "<!-- ::: q-block.exercise -->\n",
        "\n",
        "### Quiz 1-8\n",
        "\n",
        "<!-- ::: q-quiz(goal=\"utokyo_01_8\") -->\n",
        "\n",
        "<!-- ::: .question -->\n",
        "\n",
        "Welche Operation ist gleich $ HXH $ ?\n",
        "\n",
        "<!-- ::: -->\n",
        "\n",
        "<!-- ::: .option -->\n",
        "\n",
        "$X$\n",
        "\n",
        "<!-- ::: -->\n",
        "\n",
        "<!-- ::: .option -->\n",
        "\n",
        "$Y$\n",
        "\n",
        "<!-- ::: -->\n",
        "\n",
        "<!-- ::: .option(correct) -->\n",
        "\n",
        "$Z$\n",
        "\n",
        "<!-- ::: -->\n",
        "\n",
        "<!-- ::: .option -->\n",
        "\n",
        "$H$\n",
        "\n",
        "<!-- ::: -->\n",
        "\n",
        "<!-- ::: -->\n",
        "\n",
        "<!-- ::: -->"
      ]
    },
    {
      "cell_type": "markdown",
      "metadata": {
      },
      "source": [
        "## Quiz 1-9"
      ]
    },
    {
      "cell_type": "markdown",
      "metadata": {
      },
      "source": [
        "<!-- ::: q-block.exercise -->\n",
        "\n",
        "### Quiz 1-9\n",
        "\n",
        "<!-- ::: q-quiz(goal=\"utokyo_01_9\") -->\n",
        "\n",
        "<!-- ::: .question -->\n",
        "\n",
        "Was ist $ S|-\\rangle$ ?\n",
        "\n",
        "<!-- ::: -->\n",
        "\n",
        "<!-- ::: .option -->\n",
        "\n",
        "$\\frac{1}{\\sqrt{2}}|0\\rangle + \\frac{1}{\\sqrt{2}}|1\\rangle$\n",
        "\n",
        "<!-- ::: -->\n",
        "\n",
        "<!-- ::: .option -->\n",
        "\n",
        "$\\frac{1}{\\sqrt{2}}|0\\rangle -\\frac{1}{\\sqrt{2}}|1\\rangle$\n",
        "\n",
        "<!-- ::: -->\n",
        "\n",
        "<!-- ::: .option -->\n",
        "\n",
        "$\\frac{1}{\\sqrt{2}}|0\\rangle +\\frac{i}{\\sqrt{2}}|1\\rangle$\n",
        "\n",
        "<!-- ::: -->\n",
        "\n",
        "<!-- ::: .option(correct) -->\n",
        "\n",
        "$\\frac{1}{\\sqrt{2}}|0\\rangle -\\frac{i}{\\sqrt{2}}|1\\rangle$\n",
        "\n",
        "<!-- ::: -->\n",
        "\n",
        "<!-- ::: -->\n",
        "\n",
        "<!-- ::: -->"
      ]
    },
    {
      "cell_type": "markdown",
      "metadata": {
      },
      "source": [
        "## Quiz 1-10"
      ]
    },
    {
      "cell_type": "markdown",
      "metadata": {
      },
      "source": [
        "<!-- ::: q-block.exercise -->\n",
        "\n",
        "### Quiz 1-10\n",
        "\n",
        "<!-- ::: q-quiz(goal=\"utokyo_01_10\") -->\n",
        "\n",
        "<!-- ::: .question -->\n",
        "\n",
        "Permutationsmatrizen sind die einzigen Matrizen, die sowohl klassische als auch Quantenoperationen darstellen können.\n",
        "\n",
        "<!-- ::: -->\n",
        "\n",
        "<!-- ::: .option(correct) -->\n",
        "\n",
        "Ja\n",
        "\n",
        "<!-- ::: -->\n",
        "\n",
        "<!-- ::: .option -->\n",
        "\n",
        "NEIN\n",
        "\n",
        "<!-- ::: -->\n",
        "\n",
        "<!-- ::: -->\n",
        "\n",
        "<!-- ::: -->"
      ]
    },
    {
      "cell_type": "markdown",
      "metadata": {
      },
      "source": [
        "Dies ist das Ende des Quiz dieser Woche!\n",
        "\n",
        "**Bitte machen Sie einen Screenshot und senden Sie ihn an ITC-LMS.**"
      ]
    }
  ],
  "metadata": {
    "kernelspec": {
      "display_name": "Python 3",
      "language": "python",
      "name": "python3"
    },
    "language_info": {
      "codemirror_mode": {
        "name": "ipython",
        "version": 3
      },
      "file_extension": ".py",
      "mimetype": "text/x-python",
      "name": "python",
      "nbconvert_exporter": "python",
      "pygments_lexer": "ipython3",
      "version": "3.9"
    }
  },
  "nbformat": 4,
  "nbformat_minor": 4
}
